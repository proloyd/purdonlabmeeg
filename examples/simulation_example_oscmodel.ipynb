{
 "cells": [
  {
   "cell_type": "code",
   "execution_count": null,
   "metadata": {},
   "outputs": [],
   "source": [
    "# Author: Proloy das <proloyd94@gmail.com>\n",
    "# License: BSD (3-clause)\n",
    "%matplotlib notebook"
   ]
  },
  {
   "cell_type": "code",
   "execution_count": null,
   "metadata": {},
   "outputs": [],
   "source": [
    "import numpy as np\n",
    "import os\n",
    "# import eelbrain\n",
    "import mne\n",
    "from mne.datasets import sample\n",
    "from matplotlib import pyplot as plt\n",
    "# from eelbrain import save"
   ]
  },
  {
   "cell_type": "code",
   "execution_count": null,
   "metadata": {},
   "outputs": [],
   "source": [
    "data_path = sample.data_path()\n",
    "fwd_fname = os.path.join(data_path, 'MEG/sample/sample_audvis-meg-eeg-oct-6-fwd.fif')\n",
    "ave_fname = os.path.join(data_path, 'MEG/sample/sample_audvis-ave.fif')\n",
    "cov_fname = os.path.join(data_path, 'MEG/sample/sample_audvis-cov.fif')\n",
    "subjects_dir = os.path.join(data_path, 'subjects')\n",
    "condition = 'Left Auditory'\n",
    "subject = 'sample'"
   ]
  },
  {
   "cell_type": "markdown",
   "metadata": {},
   "source": [
    "## Simulate raw data"
   ]
  },
  {
   "cell_type": "code",
   "execution_count": null,
   "metadata": {},
   "outputs": [],
   "source": [
    "info = mne.io.read_info(ave_fname)\n",
    "info['bads'] = ['EEG 053']\n",
    "with info._unlock():\n",
    "    info['sfreq'] = 250.\n",
    "tstep = 1 / info['sfreq']\n",
    "forward = mne.read_forward_solution(fwd_fname)\n",
    "src = forward['src']\n",
    "noise_cov = mne.read_cov(cov_fname)"
   ]
  },
  {
   "cell_type": "markdown",
   "metadata": {},
   "source": [
    "### Region to activate<br>\n",
    "To select a region to activate, we use the caudal middle frontal to grow a region of interest."
   ]
  },
  {
   "cell_type": "code",
   "execution_count": null,
   "metadata": {},
   "outputs": [],
   "source": [
    "roi = 'caudalmiddlefrontal'\n",
    "rois = ['transversetemporal', 'precentral']\n",
    "hemis = ['lh', 'rh']\n",
    "selected_labels = [mne.read_labels_from_annot(\n",
    "                                        subject,\n",
    "                                        regexp=f'{roi}-{hemi}',\n",
    "                                        subjects_dir=subjects_dir\n",
    "                                             )[0] \n",
    "                   for roi, hemi in zip(rois, hemis)]\n",
    "location = 'center'  # Use the center of the region as a seed.\n",
    "extent = 20.  # Extent in mm of the region.\n",
    "labels = [mne.label.select_sources(\n",
    "    subject, selected_label, location=location, extent=extent,\n",
    "    subjects_dir=subjects_dir) for selected_label in selected_labels]"
   ]
  },
  {
   "cell_type": "markdown",
   "metadata": {},
   "source": [
    "### Define the time course of the activity for each source of the region to activate.\n",
    "Here we use two AR processes: one slow (1.6Hz), and one fast oscillations(12Hz)."
   ]
  },
  {
   "cell_type": "code",
   "execution_count": null,
   "metadata": {},
   "outputs": [],
   "source": [
    "from purdonlabmeeg._temporal_dynamics_utils.tests._generate_data import ARData\n",
    "\n",
    "ntimes = int(np.round(info['sfreq'] * 20 * 10.))\n",
    "slow_data = ARData(ntimes + 200, noise_var=0.1,\n",
    "                   coeffs=[2*np.cos(2*np.pi*1.6/info['sfreq']),\n",
    "                           -0.99983],\n",
    "                   num_prev=2)\n",
    "fast_data = ARData(ntimes +  200, noise_var=0.01,\n",
    "                   coeffs=[2*np.cos(2*np.pi*12/info['sfreq']),\n",
    "                           -0.985],\n",
    "                   num_prev=2)\n",
    "\n",
    "source_time_series1 = 2e-9 * slow_data.y[200:] / slow_data.y[200:].std()\n",
    "source_time_series2 = 1.5e-9 * fast_data.y[200:] / fast_data.y[200:].std()\n",
    "source_time_serieses = (source_time_series1, source_time_series2)"
   ]
  },
  {
   "cell_type": "code",
   "execution_count": null,
   "metadata": {},
   "outputs": [],
   "source": [
    "tx = np.arange(ntimes) / info['sfreq']\n",
    "fig, ax = plt.subplots(figsize=(10, 3))\n",
    "ax.plot(tx, source_time_series1, label='leading slow data')\n",
    "ax.plot(tx, source_time_series2, alpha=0.5, label='lagging slow data')\n",
    "ax.set_ylim([-0.5e-8, 0.5e-8])\n",
    "legend = ax.legend()\n",
    "fig.savefig('source_time_courses.svg')"
   ]
  },
  {
   "cell_type": "markdown",
   "metadata": {},
   "source": [
    "### Define when the activity occurs using events.<br>\n",
    "The first column is the sample of the event, the second is not used, and the third is the event id. Here the events occur every 200 samples."
   ]
  },
  {
   "cell_type": "code",
   "execution_count": null,
   "metadata": {},
   "outputs": [],
   "source": [
    "n_events = 10\n",
    "events = np.zeros((n_events, 3), dtype=int)\n",
    "events[:, 0] = 100 + (ntimes // 10) * np.arange(n_events)  # Events sample.\n",
    "events[:, 2] = 1  # All events have the sample id."
   ]
  },
  {
   "cell_type": "markdown",
   "metadata": {},
   "source": [
    "### Create simulated source activity.<br>\n",
    "Here we use a `SourceSimulator` whose add_data method is key. It specified where (label), what (source_time_series), and when (events) an event type will occur."
   ]
  },
  {
   "cell_type": "code",
   "execution_count": null,
   "metadata": {},
   "outputs": [],
   "source": [
    "source_simulator = mne.simulation.SourceSimulator(src, tstep=tstep)\n",
    "for label, source_time_series  in zip(labels, source_time_serieses):\n",
    "    source_simulator.add_data(label, source_time_series, events)"
   ]
  },
  {
   "cell_type": "markdown",
   "metadata": {},
   "source": [
    "### Project the source time series to sensor space and add some noise.<br>\n",
    "The source simulator can be given directly to the simulate_raw function."
   ]
  },
  {
   "cell_type": "code",
   "execution_count": null,
   "metadata": {
    "scrolled": true
   },
   "outputs": [],
   "source": [
    "raw = mne.simulation.simulate_raw(info, source_simulator, forward=forward)\n",
    "raw = raw.copy().pick_types(eeg=True)\n",
    "# raw.drop_channels(info['bads'])\n",
    "raw = mne.simulation.add_noise(raw, noise_cov, iir_filter=[10, -9], random_state=0)"
   ]
  },
  {
   "cell_type": "markdown",
   "metadata": {},
   "source": [
    "### extract the epochs and form evoked object"
   ]
  },
  {
   "cell_type": "code",
   "execution_count": null,
   "metadata": {},
   "outputs": [],
   "source": [
    "# events = mne.find_events(raw)\n",
    "psd_kwargs = dict(bandwidth=0.5, adaptive=True, low_bias=True)\n",
    "raw = raw.pick_types(eeg=True).filter(.5, None).resample(100)\n",
    "epochs = mne.Epochs(raw, events, 1, tmin=-0.0, tmax=10.0, baseline=None)\n",
    "epochs.load_data()\n",
    "fig = epochs.compute_psd(method='multitaper', **psd_kwargs).plot()"
   ]
  },
  {
   "cell_type": "markdown",
   "metadata": {},
   "source": [
    "Crop timepoints of interest, and pick only the EEG channels!"
   ]
  },
  {
   "cell_type": "code",
   "execution_count": null,
   "metadata": {},
   "outputs": [],
   "source": [
    "noise_cov.plot(epochs.info)"
   ]
  },
  {
   "cell_type": "code",
   "execution_count": null,
   "metadata": {},
   "outputs": [],
   "source": [
    "from purdonlabmeeg import OCACV\n",
    "\n",
    "mne.set_log_file('debug-3.log')\n",
    "mne.set_log_level('DEBUG')\n",
    "this_epochs = epochs.copy()\n",
    "ocacv = OCACV(n_oscillations=[1, 2, 3, 4], n_pca_components=0.99, noise_cov=noise_cov, max_iter=50, \n",
    "        fit_params={'ar_order':13, 'pca_whiten':True, 'scalar_alpha':True,})\n",
    "ocacv.fit(this_epochs)"
   ]
  },
  {
   "cell_type": "markdown",
   "metadata": {},
   "source": [
    "## Lets look at the results now.\n",
    "I give a few useful ways to inspect the results for fit."
   ]
  },
  {
   "cell_type": "code",
   "execution_count": null,
   "metadata": {},
   "outputs": [],
   "source": [
    "fig = ocacv.plot_cv()\n",
    "fig.show()\n",
    "ocacv.crossvalidate(False)"
   ]
  },
  {
   "cell_type": "code",
   "execution_count": null,
   "metadata": {
    "scrolled": true
   },
   "outputs": [],
   "source": [
    "fig = ocacv.plot_components(plot_phase=False, colorbar=True)"
   ]
  },
  {
   "cell_type": "markdown",
   "metadata": {},
   "source": [
    "Compare the OCA topomaps to the traditional topomaps, made from averaging psd within canonical frequency bands."
   ]
  },
  {
   "cell_type": "code",
   "execution_count": null,
   "metadata": {},
   "outputs": [],
   "source": [
    "fig = epochs.compute_psd(method='multitaper', bandwidth=1.).plot_topomap()"
   ]
  },
  {
   "cell_type": "code",
   "execution_count": null,
   "metadata": {},
   "outputs": [],
   "source": [
    "sources = ocacv.get_sources(epochs)\n",
    "mne.viz.set_browser_backend('matplotlib')\n",
    "fig = sources.plot(picks='all')\n",
    "fig = sources.compute_psd(picks='all').plot(picks='all')"
   ]
  },
  {
   "cell_type": "code",
   "execution_count": null,
   "metadata": {},
   "outputs": [],
   "source": [
    "cov = ocacv.get_fitted_noise_cov()\n",
    "cov.plot(ocacv.info)"
   ]
  }
 ],
 "metadata": {
  "kernelspec": {
   "display_name": "Python 3 (ipykernel)",
   "language": "python",
   "name": "python3"
  },
  "language_info": {
   "codemirror_mode": {
    "name": "ipython",
    "version": 3
   },
   "file_extension": ".py",
   "mimetype": "text/x-python",
   "name": "python",
   "nbconvert_exporter": "python",
   "pygments_lexer": "ipython3",
   "version": "3.11.8"
  }
 },
 "nbformat": 4,
 "nbformat_minor": 4
}
